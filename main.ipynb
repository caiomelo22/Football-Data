{
 "cells": [
  {
   "cell_type": "code",
   "execution_count": 1,
   "metadata": {},
   "outputs": [],
   "source": [
    "import requests\n",
    "import json\n",
    "import time\n",
    "import pandas as pd\n",
    "import mysql.connector\n",
    "from IPython.display import clear_output\n",
    "from datetime import datetime\n",
    "from config import api_football_key, conn_host, conn_database, conn_user, conn_password"
   ]
  },
  {
   "cell_type": "code",
   "execution_count": 2,
   "metadata": {},
   "outputs": [],
   "source": [
    "league_id = 128 # Choose the league id\n",
    "start_season = 2015\n",
    "end_season = 2023\n",
    "\n",
    "now = time.time()"
   ]
  },
  {
   "cell_type": "code",
   "execution_count": 3,
   "metadata": {},
   "outputs": [],
   "source": [
    "headers = {\n",
    "        'X-RapidAPI-Key': api_football_key,\n",
    "        'X-RapidAPI-Host': 'api-football-v1.p.rapidapi.com'\n",
    "    }\n",
    "\n",
    "def connect_to_db():\n",
    "    return mysql.connector.connect(host=conn_host, \n",
    "                                     database=conn_database,\n",
    "                                     user=conn_user,\n",
    "                                     password=conn_password)\n",
    "\n",
    "def execute_query(query, read_only = True):\n",
    "    resp = None\n",
    "    try:\n",
    "        db = connect_to_db()\n",
    "        if read_only:\n",
    "            resp = pd.read_sql_query(query, db)\n",
    "        else:\n",
    "            mycursor = db.cursor()\n",
    "            mycursor.execute(query)\n",
    "\n",
    "            db.commit()\n",
    "        db.close()\n",
    "    except Exception as e:\n",
    "        print(e)\n",
    "    return resp\n",
    "\n",
    "def execute_multiple_queries(queries):\n",
    "    try:\n",
    "        db = connect_to_db()\n",
    "        mycursor = db.cursor()\n",
    "        for query in queries:\n",
    "            mycursor.execute(query)\n",
    "\n",
    "        db.commit()\n",
    "        db.close()\n",
    "    except Exception as e:\n",
    "        print(e)"
   ]
  },
  {
   "cell_type": "code",
   "execution_count": 4,
   "metadata": {},
   "outputs": [],
   "source": [
    "# Table creation queries\n",
    "execute_query(\"CREATE TABLE IF NOT EXISTS leagues (id INT NOT NULL, name VARCHAR(50) NOT NULL, PRIMARY KEY (id))\", False)\n",
    "execute_query(\"CREATE TABLE IF NOT EXISTS teams (id INT NOT NULL, name VARCHAR(50) NOT NULL, PRIMARY KEY (id))\", False)\n",
    "execute_query(\"CREATE TABLE IF NOT EXISTS matches (id INT NOT NULL, date DATETIME NOT NULL, league_id INT NOT NULL, season INT NOT NULL, home_id INT NOT NULL, away_id INT NOT NULL, home_score INT NULL, away_score INT NULL, PRIMARY KEY (id), FOREIGN KEY(home_id) REFERENCES teams (id), FOREIGN KEY(away_id) REFERENCES teams (id), FOREIGN KEY(league_id) REFERENCES leagues (id))\", False)"
   ]
  },
  {
   "cell_type": "code",
   "execution_count": 5,
   "metadata": {},
   "outputs": [],
   "source": [
    "def get_league_season_fixtures(season):\n",
    "    response = requests.get(f\"https://api-football-v1.p.rapidapi.com/v3/fixtures?league={league_id}&season={season}\", headers=headers)\n",
    "    response_parsed = json.loads(response.text)\n",
    "    return [fixture for fixture in response_parsed['response'] if fixture['fixture']['timestamp'] < now]"
   ]
  },
  {
   "cell_type": "code",
   "execution_count": 6,
   "metadata": {},
   "outputs": [],
   "source": [
    "def add_match_info_to_db(fixture):\n",
    "    fixture_id, league_id, league_name, fixture_date, season, home_id, home_name, away_id, away_name, home_score, away_score = fixture['fixture']['id'], fixture['league']['id'], f\"{fixture['league']['name']} ({fixture['league']['country']})\", fixture['fixture']['timestamp'], fixture['league']['season'], fixture['teams']['home']['id'], fixture['teams']['home']['name'], fixture['teams']['away']['id'], fixture['teams']['away']['name'], fixture['goals']['home'], fixture['goals']['away']\n",
    "    fixture_date_converted = datetime.fromtimestamp(fixture_date).strftime('%Y-%m-%d %H:%M:%S')\n",
    "    \n",
    "    queries = []\n",
    "    queries.append(f\"INSERT IGNORE INTO leagues (id, name) VALUES ({league_id}, '{league_name}')\")\n",
    "    queries.append(f\"INSERT IGNORE INTO teams (id, name) VALUES ({home_id}, '{home_name}')\")\n",
    "    queries.append(f\"INSERT IGNORE INTO teams (id, name) VALUES ({away_id}, '{away_name}')\")\n",
    "    queries.append(f\"INSERT IGNORE INTO matches (id, date, league_id, season, home_id, away_id, home_score, away_score) VALUES ({fixture_id}, '{fixture_date_converted}', {league_id}, {season}, {home_id}, {away_id}, '{home_score}', '{away_score}')\")\n",
    "\n",
    "    return queries"
   ]
  },
  {
   "cell_type": "code",
   "execution_count": 7,
   "metadata": {
    "scrolled": false
   },
   "outputs": [
    {
     "name": "stdout",
     "output_type": "stream",
     "text": [
      "Loading fixtures for the 2022 season: 580/581\n"
     ]
    }
   ],
   "source": [
    "insert_queries = []\n",
    "\n",
    "for season in range(start_season, end_season):\n",
    "    fixtures = get_league_season_fixtures(season)\n",
    "    for index, fixture in enumerate(fixtures):\n",
    "        clear_output(wait=True)\n",
    "        print(f\"Loading fixtures for the {season} season: {index}/{len(fixtures)}\")\n",
    "        insert_queries.extend(add_match_info_to_db(fixture))"
   ]
  },
  {
   "cell_type": "code",
   "execution_count": 8,
   "metadata": {},
   "outputs": [],
   "source": [
    "execute_multiple_queries(insert_queries)"
   ]
  },
  {
   "cell_type": "code",
   "execution_count": 9,
   "metadata": {},
   "outputs": [
    {
     "name": "stderr",
     "output_type": "stream",
     "text": [
      "C:\\Users\\caiog\\anaconda3\\lib\\site-packages\\pandas\\io\\sql.py:761: UserWarning: pandas only support SQLAlchemy connectable(engine/connection) ordatabase string URI or sqlite3 DBAPI2 connectionother DBAPI2 objects are not tested, please consider using SQLAlchemy\n",
      "  warnings.warn(\n"
     ]
    }
   ],
   "source": [
    "fixtures_df = execute_query(f\"SELECT m.id, m.date, m.season, l.name AS league, ht.name as home_team, at.name as away_team, m.home_score, m.away_score FROM matches AS m INNER JOIN teams AS ht ON (m.home_id = ht.id) INNER JOIN teams AS at ON (m.away_id = at.id) INNER JOIN leagues AS l ON (m.league_id = l.id) WHERE (l.id = {league_id} AND m.season >= {start_season} and m.season < {end_season}) ORDER BY m.date DESC\")"
   ]
  },
  {
   "cell_type": "code",
   "execution_count": 10,
   "metadata": {
    "scrolled": false
   },
   "outputs": [
    {
     "data": {
      "text/html": [
       "<div>\n",
       "<style scoped>\n",
       "    .dataframe tbody tr th:only-of-type {\n",
       "        vertical-align: middle;\n",
       "    }\n",
       "\n",
       "    .dataframe tbody tr th {\n",
       "        vertical-align: top;\n",
       "    }\n",
       "\n",
       "    .dataframe thead th {\n",
       "        text-align: right;\n",
       "    }\n",
       "</style>\n",
       "<table border=\"1\" class=\"dataframe\">\n",
       "  <thead>\n",
       "    <tr style=\"text-align: right;\">\n",
       "      <th></th>\n",
       "      <th>id</th>\n",
       "      <th>date</th>\n",
       "      <th>season</th>\n",
       "      <th>league</th>\n",
       "      <th>home_team</th>\n",
       "      <th>away_team</th>\n",
       "      <th>home_score</th>\n",
       "      <th>away_score</th>\n",
       "    </tr>\n",
       "  </thead>\n",
       "  <tbody>\n",
       "    <tr>\n",
       "      <th>0</th>\n",
       "      <td>863543</td>\n",
       "      <td>2022-10-25 20:00:00</td>\n",
       "      <td>2022</td>\n",
       "      <td>Liga Profesional Argentina (Argentina)</td>\n",
       "      <td>Platense</td>\n",
       "      <td>Lanus</td>\n",
       "      <td>1</td>\n",
       "      <td>1</td>\n",
       "    </tr>\n",
       "    <tr>\n",
       "      <th>1</th>\n",
       "      <td>863534</td>\n",
       "      <td>2022-10-24 20:30:00</td>\n",
       "      <td>2022</td>\n",
       "      <td>Liga Profesional Argentina (Argentina)</td>\n",
       "      <td>Tigre</td>\n",
       "      <td>Arsenal Sarandi</td>\n",
       "      <td>1</td>\n",
       "      <td>4</td>\n",
       "    </tr>\n",
       "    <tr>\n",
       "      <th>2</th>\n",
       "      <td>863545</td>\n",
       "      <td>2022-10-24 16:30:00</td>\n",
       "      <td>2022</td>\n",
       "      <td>Liga Profesional Argentina (Argentina)</td>\n",
       "      <td>Rosario Central</td>\n",
       "      <td>Colon Santa Fe</td>\n",
       "      <td>1</td>\n",
       "      <td>1</td>\n",
       "    </tr>\n",
       "    <tr>\n",
       "      <th>3</th>\n",
       "      <td>863535</td>\n",
       "      <td>2022-10-24 15:30:00</td>\n",
       "      <td>2022</td>\n",
       "      <td>Liga Profesional Argentina (Argentina)</td>\n",
       "      <td>Barracas Central</td>\n",
       "      <td>Newells Old Boys</td>\n",
       "      <td>1</td>\n",
       "      <td>1</td>\n",
       "    </tr>\n",
       "    <tr>\n",
       "      <th>4</th>\n",
       "      <td>863536</td>\n",
       "      <td>2022-10-23 17:00:00</td>\n",
       "      <td>2022</td>\n",
       "      <td>Liga Profesional Argentina (Argentina)</td>\n",
       "      <td>Boca Juniors</td>\n",
       "      <td>Independiente</td>\n",
       "      <td>2</td>\n",
       "      <td>2</td>\n",
       "    </tr>\n",
       "  </tbody>\n",
       "</table>\n",
       "</div>"
      ],
      "text/plain": [
       "       id                date  season                                  league  \\\n",
       "0  863543 2022-10-25 20:00:00    2022  Liga Profesional Argentina (Argentina)   \n",
       "1  863534 2022-10-24 20:30:00    2022  Liga Profesional Argentina (Argentina)   \n",
       "2  863545 2022-10-24 16:30:00    2022  Liga Profesional Argentina (Argentina)   \n",
       "3  863535 2022-10-24 15:30:00    2022  Liga Profesional Argentina (Argentina)   \n",
       "4  863536 2022-10-23 17:00:00    2022  Liga Profesional Argentina (Argentina)   \n",
       "\n",
       "          home_team         away_team  home_score  away_score  \n",
       "0          Platense             Lanus           1           1  \n",
       "1             Tigre   Arsenal Sarandi           1           4  \n",
       "2   Rosario Central    Colon Santa Fe           1           1  \n",
       "3  Barracas Central  Newells Old Boys           1           1  \n",
       "4      Boca Juniors     Independiente           2           2  "
      ]
     },
     "execution_count": 10,
     "metadata": {},
     "output_type": "execute_result"
    }
   ],
   "source": [
    "fixtures_df.head()"
   ]
  },
  {
   "cell_type": "code",
   "execution_count": 4,
   "metadata": {},
   "outputs": [
    {
     "name": "stdout",
     "output_type": "stream",
     "text": [
      "'NoneType' object is not iterable\n"
     ]
    },
    {
     "name": "stderr",
     "output_type": "stream",
     "text": [
      "C:\\Users\\caiog\\anaconda3\\lib\\site-packages\\pandas\\io\\sql.py:761: UserWarning: pandas only support SQLAlchemy connectable(engine/connection) ordatabase string URI or sqlite3 DBAPI2 connectionother DBAPI2 objects are not tested, please consider using SQLAlchemy\n",
      "  warnings.warn(\n"
     ]
    }
   ],
   "source": [
    "execute_query(\"ALTER TABLE matches \" +\n",
    "              \"ADD no_stats TINYINT NULL;\")"
   ]
  },
  {
   "cell_type": "code",
   "execution_count": 11,
   "metadata": {},
   "outputs": [
    {
     "name": "stdout",
     "output_type": "stream",
     "text": [
      "Execution failed on sql 'ALTER TABLE matches ADD home_shots_on_goal INT NULL,ADD home_shots_off_goal INT NULL,ADD home_total_shots INT NULL,ADD home_blocked_shots INT NULL,ADD home_shots_inside_box INT NULL,ADD home_shots_outside_box INT NULL,ADD home_fouls INT NULL,ADD home_corners INT NULL,ADD home_offsides INT NULL,ADD home_possession FLOAT NULL,ADD home_yellow_cards INT NULL,ADD home_red_cards INT NULL,ADD home_saves INT NULL,ADD home_total_passes INT NULL,ADD home_passes_accurate INT NULL,ADD home_passes_pct FLOAT NULL,ADD away_shots_on_goal INT NULL,ADD away_shots_off_goal INT NULL,ADD away_total_shots INT NULL,ADD away_blocked_shots INT NULL,ADD away_shots_inside_box INT NULL,ADD away_shots_outside_box INT NULL,ADD away_fouls INT NULL,ADD away_corners INT NULL,ADD away_offsides INT NULL,ADD away_possession FLOAT NULL,ADD away_yellow_cards INT NULL,ADD away_red_cards INT NULL,ADD away_saves INT NULL,ADD away_total_passes INT NULL,ADD away_passes_accurate INT NULL,ADD away_passes_pct FLOAT NULL;': 1060 (42S21): Duplicate column name 'home_shots_on_goal'\n"
     ]
    },
    {
     "name": "stderr",
     "output_type": "stream",
     "text": [
      "C:\\Users\\caiog\\anaconda3\\lib\\site-packages\\pandas\\io\\sql.py:761: UserWarning: pandas only support SQLAlchemy connectable(engine/connection) ordatabase string URI or sqlite3 DBAPI2 connectionother DBAPI2 objects are not tested, please consider using SQLAlchemy\n",
      "  warnings.warn(\n"
     ]
    }
   ],
   "source": [
    "execute_query(\"ALTER TABLE matches \" +\n",
    "              \"ADD home_shots_on_goal INT NULL,\" +\n",
    "              \"ADD home_shots_off_goal INT NULL,\" +\n",
    "              \"ADD home_total_shots INT NULL,\" +\n",
    "              \"ADD home_blocked_shots INT NULL,\" +\n",
    "              \"ADD home_shots_inside_box INT NULL,\" +\n",
    "              \"ADD home_shots_outside_box INT NULL,\" +\n",
    "              \"ADD home_fouls INT NULL,\" +\n",
    "              \"ADD home_corners INT NULL,\" +\n",
    "              \"ADD home_offsides INT NULL,\" +\n",
    "              \"ADD home_possession FLOAT NULL,\" +\n",
    "              \"ADD home_yellow_cards INT NULL,\" +\n",
    "              \"ADD home_red_cards INT NULL,\" +\n",
    "              \"ADD home_saves INT NULL,\" +\n",
    "              \"ADD home_total_passes INT NULL,\" +\n",
    "              \"ADD home_passes_accurate INT NULL,\" +\n",
    "              \"ADD home_passes_pct FLOAT NULL,\" + \n",
    "              \"ADD away_shots_on_goal INT NULL,\" +\n",
    "              \"ADD away_shots_off_goal INT NULL,\" +\n",
    "              \"ADD away_total_shots INT NULL,\" +\n",
    "              \"ADD away_blocked_shots INT NULL,\" +\n",
    "              \"ADD away_shots_inside_box INT NULL,\" +\n",
    "              \"ADD away_shots_outside_box INT NULL,\" +\n",
    "              \"ADD away_fouls INT NULL,\" +\n",
    "              \"ADD away_corners INT NULL,\" +\n",
    "              \"ADD away_offsides INT NULL,\" +\n",
    "              \"ADD away_possession FLOAT NULL,\" +\n",
    "              \"ADD away_yellow_cards INT NULL,\" +\n",
    "              \"ADD away_red_cards INT NULL,\" +\n",
    "              \"ADD away_saves INT NULL,\" +\n",
    "              \"ADD away_total_passes INT NULL,\" +\n",
    "              \"ADD away_passes_accurate INT NULL,\" +\n",
    "              \"ADD away_passes_pct FLOAT NULL;\")"
   ]
  },
  {
   "cell_type": "code",
   "execution_count": 12,
   "metadata": {},
   "outputs": [],
   "source": [
    "def get_league_season_fixtures(fixture_id):\n",
    "    response = requests.get(f\"https://api-football-v1.p.rapidapi.com/v3/fixtures/statistics?fixture={fixture_id}\", headers=headers)\n",
    "    response_parsed = json.loads(response.text)\n",
    "    return response_parsed['response']\n",
    "\n",
    "def update_match_stats(fixture_id, home_stats, away_stats):\n",
    "    home_update_query = f\"SET home_shots_on_goal = {home_stats[0] or 0}, home_shots_off_goal = {home_stats[1] or 0}, home_total_shots = {home_stats[2] or 0}, home_blocked_shots = {home_stats[3] or 0}, home_shots_inside_box = {home_stats[4] or 0}, home_shots_outside_box = {home_stats[5] or 0}, home_fouls = {home_stats[6] or 0}, home_corners = {home_stats[7] or 0}, home_offsides = {home_stats[8] or 0}, home_possession = {home_stats[9].replace('%', '')}, home_yellow_cards = {home_stats[10] or 0}, home_red_cards = {home_stats[11] or 0}, home_saves = {home_stats[12] or 0}, home_total_passes = {home_stats[13] or 0}, home_passes_accurate = {home_stats[14] or 0}, home_passes_pct = {home_stats[15].replace('%', '')}\"\n",
    "    away_update_query = f\"away_shots_on_goal = {away_stats[0] or 0}, away_shots_off_goal = {away_stats[1] or 0}, away_total_shots = {away_stats[2] or 0}, away_blocked_shots = {away_stats[3] or 0}, away_shots_inside_box = {away_stats[4] or 0}, away_shots_outside_box = {away_stats[5] or 0}, away_fouls = {away_stats[6] or 0}, away_corners = {away_stats[7] or 0}, away_offsides = {away_stats[8] or 0}, away_possession = {away_stats[9].replace('%', '')}, away_yellow_cards = {away_stats[10] or 0}, away_red_cards = {away_stats[11] or 0}, away_saves = {away_stats[12] or 0}, away_total_passes = {away_stats[13] or 0}, away_passes_accurate = {away_stats[14] or 0}, away_passes_pct = {away_stats[15].replace('%', '')}\"\n",
    "    update_query = f\"UPDATE matches {home_update_query}, {away_update_query} WHERE id = {fixture_id}\"\n",
    "    return update_query\n",
    "\n",
    "def update_match_no_stats(fixture_id):\n",
    "    update_query = f\"UPDATE matches SET no_stats = 1 WHERE id = {fixture_id}\"\n",
    "    return update_query"
   ]
  },
  {
   "cell_type": "code",
   "execution_count": 13,
   "metadata": {},
   "outputs": [],
   "source": [
    "def get_fixtures_statistics():\n",
    "    update_queries = []\n",
    "    \n",
    "    for index, g in fixtures_df.iterrows():\n",
    "        clear_output(wait=True)\n",
    "        print(f\"{index}/{len(fixtures_df.index)}\")\n",
    "        \n",
    "        try:\n",
    "            stats = get_league_season_fixtures(g['id'])\n",
    "            home_stats = [s['value'] for s in stats[0]['statistics']]\n",
    "            away_stats = [s['value'] for s in stats[1]['statistics']]\n",
    "            query = update_match_stats(g['id'], home_stats, away_stats)\n",
    "        except:\n",
    "            query = update_match_no_stats(fixture_id)\n",
    "            \n",
    "        update_queries.append(query)\n",
    "        \n",
    "    execute_multiple_queries(update_queries)"
   ]
  },
  {
   "cell_type": "code",
   "execution_count": 14,
   "metadata": {},
   "outputs": [
    {
     "name": "stdout",
     "output_type": "stream",
     "text": [
      "3112/3113\n"
     ]
    }
   ],
   "source": [
    "# Makes one request per fixture, so uses way more of your quota of requests to the Football-Api\n",
    "allow_get_fixture_statistics = True\n",
    "\n",
    "if allow_get_fixture_statistics: get_fixtures_statistics()"
   ]
  }
 ],
 "metadata": {
  "kernelspec": {
   "display_name": "Python 3 (ipykernel)",
   "language": "python",
   "name": "python3"
  },
  "language_info": {
   "codemirror_mode": {
    "name": "ipython",
    "version": 3
   },
   "file_extension": ".py",
   "mimetype": "text/x-python",
   "name": "python",
   "nbconvert_exporter": "python",
   "pygments_lexer": "ipython3",
   "version": "3.9.12"
  }
 },
 "nbformat": 4,
 "nbformat_minor": 4
}
