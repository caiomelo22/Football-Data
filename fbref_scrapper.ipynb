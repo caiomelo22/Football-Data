{
 "cells": [
  {
   "cell_type": "code",
   "execution_count": 110,
   "id": "351edf95",
   "metadata": {},
   "outputs": [],
   "source": [
    "from urllib.request import Request, urlopen as uReq\n",
    "from bs4 import BeautifulSoup as soup\n",
    "from selenium import webdriver\n",
    "import time\n",
    "from selenium.webdriver.chrome.options import Options\n",
    "from selenium.webdriver.common.by import By\n",
    "from webdriver_manager.chrome import ChromeDriverManager\n",
    "import requests\n",
    "import io\n",
    "import json\n",
    "import os\n",
    "import pandas as pd\n",
    "from config import conn_host, conn_database, conn_user, conn_password\n",
    "from IPython.display import clear_output"
   ]
  },
  {
   "cell_type": "code",
   "execution_count": 104,
   "id": "d66655da",
   "metadata": {},
   "outputs": [],
   "source": [
    "league = \"Premier-League\"\n",
    "start_season = 2017\n",
    "end_season = 2023"
   ]
  },
  {
   "cell_type": "code",
   "execution_count": 105,
   "id": "81dc906d",
   "metadata": {},
   "outputs": [
    {
     "name": "stdout",
     "output_type": "stream",
     "text": [
      "\n"
     ]
    },
    {
     "name": "stderr",
     "output_type": "stream",
     "text": [
      "C:\\Users\\caiog\\AppData\\Local\\Temp\\ipykernel_14888\\3468875481.py:7: DeprecationWarning: executable_path has been deprecated, please pass in a Service object\n",
      "  driver = webdriver.Chrome(ChromeDriverManager().install(), options=options)\n"
     ]
    }
   ],
   "source": [
    "option = Options()\n",
    "# option.headless = True\n",
    "options = webdriver.ChromeOptions()\n",
    "options.add_experimental_option(\"excludeSwitches\", [\"enable-automation\"])\n",
    "options.add_experimental_option('useAutomationExtension', False)\n",
    "options.add_argument(\"--disable-blink-features=AutomationControlled\")\n",
    "driver = webdriver.Chrome(ChromeDriverManager().install(), options=options)\n",
    "# driver.maximize_window()"
   ]
  },
  {
   "cell_type": "code",
   "execution_count": 106,
   "id": "022eb7b1",
   "metadata": {},
   "outputs": [],
   "source": [
    "url = 'https://fbref.com/en/comps/9/schedule/Premier-League-Scores-and-Fixtures'\n",
    "driver.get(url)\n",
    "\n",
    "driver.maximize_window()\n",
    "\n",
    "fb = driver.find_element(By.CLASS_NAME, 'fb')\n",
    "rows = fb.find_elements(By.XPATH, '//table/tbody/tr')"
   ]
  },
  {
   "cell_type": "code",
   "execution_count": 107,
   "id": "af69438b",
   "metadata": {
    "scrolled": true
   },
   "outputs": [
    {
     "name": "stdout",
     "output_type": "stream",
     "text": [
      "2022/2022 479/480\n"
     ]
    }
   ],
   "source": [
    "seasons = dict()\n",
    "\n",
    "for season in range(start_season, end_season):\n",
    "    seasons[season] = []\n",
    "    \n",
    "    url = f\"https://fbref.com/en/comps/9/{season}-{season+1}/schedule/{league}-Scores-and-Fixtures\"\n",
    "    driver.get(url)\n",
    "\n",
    "    driver.maximize_window()\n",
    "\n",
    "    fb = driver.find_element(By.CLASS_NAME, 'fb')\n",
    "    rows = fb.find_elements(By.XPATH, '//table/tbody/tr')\n",
    "\n",
    "    total_games = 0\n",
    "    for i, r in enumerate(rows):\n",
    "        clear_output()\n",
    "        print(f\"{season}/{end_season-1} {i}/{len(rows)}\")\n",
    "        if not r.text: continue\n",
    "        tds = r.find_elements(By.XPATH, './/child::td')\n",
    "        week = r.find_element(By.XPATH, './/child::th').text\n",
    "        if len(tds) < 13: continue\n",
    "        _, date, _, home_team, home_xg, score, away_xg, away_team, _, _, _, _, _ = [t.text for t in tds]\n",
    "        if not score: continue\n",
    "        home_score, away_score = score.split('–')\n",
    "        match_info = [date, week, home_team, home_xg, home_score, away_score, away_xg, away_team]\n",
    "        match_str = f\"{date} ({week}): {home_team} ({home_xg}) {home_score} x {away_score} ({away_xg}) {away_team}\"\n",
    "        seasons[season].append(match_info)\n",
    "#         print(match_str)\n",
    "        total_games += 1"
   ]
  },
  {
   "cell_type": "code",
   "execution_count": 108,
   "id": "59a736b0",
   "metadata": {},
   "outputs": [
    {
     "name": "stdout",
     "output_type": "stream",
     "text": [
      "Total games in the 2017 season: 380\n"
     ]
    },
    {
     "ename": "NameError",
     "evalue": "name 'pd' is not defined",
     "output_type": "error",
     "traceback": [
      "\u001b[1;31m---------------------------------------------------------------------------\u001b[0m",
      "\u001b[1;31mNameError\u001b[0m                                 Traceback (most recent call last)",
      "Input \u001b[1;32mIn [108]\u001b[0m, in \u001b[0;36m<cell line: 5>\u001b[1;34m()\u001b[0m\n\u001b[0;32m      6\u001b[0m \u001b[38;5;28mprint\u001b[39m(\u001b[38;5;124mf\u001b[39m\u001b[38;5;124m\"\u001b[39m\u001b[38;5;124mTotal games in the \u001b[39m\u001b[38;5;132;01m{\u001b[39;00mseason\u001b[38;5;132;01m}\u001b[39;00m\u001b[38;5;124m season:\u001b[39m\u001b[38;5;124m\"\u001b[39m, \u001b[38;5;28mlen\u001b[39m(seasons[season]))\n\u001b[0;32m      7\u001b[0m columns \u001b[38;5;241m=\u001b[39m [\u001b[38;5;124m'\u001b[39m\u001b[38;5;124mdate\u001b[39m\u001b[38;5;124m'\u001b[39m, \u001b[38;5;124m'\u001b[39m\u001b[38;5;124mweek\u001b[39m\u001b[38;5;124m'\u001b[39m, \u001b[38;5;124m'\u001b[39m\u001b[38;5;124mhome_team\u001b[39m\u001b[38;5;124m'\u001b[39m, \u001b[38;5;124m'\u001b[39m\u001b[38;5;124mhome_xg\u001b[39m\u001b[38;5;124m'\u001b[39m, \u001b[38;5;124m'\u001b[39m\u001b[38;5;124mhome_score\u001b[39m\u001b[38;5;124m'\u001b[39m, \u001b[38;5;124m'\u001b[39m\u001b[38;5;124maway_score\u001b[39m\u001b[38;5;124m'\u001b[39m, \u001b[38;5;124m'\u001b[39m\u001b[38;5;124maway_xg\u001b[39m\u001b[38;5;124m'\u001b[39m, \u001b[38;5;124m'\u001b[39m\u001b[38;5;124maway_team\u001b[39m\u001b[38;5;124m'\u001b[39m]\n\u001b[1;32m----> 8\u001b[0m season_df \u001b[38;5;241m=\u001b[39m \u001b[43mpd\u001b[49m\u001b[38;5;241m.\u001b[39mDataFrame(seasons[season], columns\u001b[38;5;241m=\u001b[39mcolumns)\n\u001b[0;32m      9\u001b[0m season_df\u001b[38;5;241m.\u001b[39mto_csv(\u001b[38;5;124mf\u001b[39m\u001b[38;5;124m\"\u001b[39m\u001b[38;5;132;01m{\u001b[39;00mdirectory\u001b[38;5;132;01m}\u001b[39;00m\u001b[38;5;124m/\u001b[39m\u001b[38;5;132;01m{\u001b[39;00mseason\u001b[38;5;132;01m}\u001b[39;00m\u001b[38;5;124m-\u001b[39m\u001b[38;5;132;01m{\u001b[39;00mseason\u001b[38;5;241m+\u001b[39m\u001b[38;5;241m1\u001b[39m\u001b[38;5;132;01m}\u001b[39;00m\u001b[38;5;124m\"\u001b[39m)\n",
      "\u001b[1;31mNameError\u001b[0m: name 'pd' is not defined"
     ]
    }
   ],
   "source": [
    "directory = f\"./leagues/{league.lower()}\"\n",
    "if not os.path.exists(directory):\n",
    "    os.makedirs(directory)\n",
    "\n",
    "for season in seasons.keys():\n",
    "    print(f\"Total games in the {season} season:\", len(seasons[season]))\n",
    "    columns = ['date', 'week', 'home_team', 'home_xg', 'home_score', 'away_score', 'away_xg', 'away_team']\n",
    "    season_df = pd.DataFrame(seasons[season], columns=columns)\n",
    "    season_df.to_csv(f\"{directory}/{season}-{season+1}\")"
   ]
  },
  {
   "cell_type": "code",
   "execution_count": null,
   "id": "34ab3241",
   "metadata": {},
   "outputs": [],
   "source": [
    "driver.close()"
   ]
  }
 ],
 "metadata": {
  "kernelspec": {
   "display_name": "Python 3 (ipykernel)",
   "language": "python",
   "name": "python3"
  },
  "language_info": {
   "codemirror_mode": {
    "name": "ipython",
    "version": 3
   },
   "file_extension": ".py",
   "mimetype": "text/x-python",
   "name": "python",
   "nbconvert_exporter": "python",
   "pygments_lexer": "ipython3",
   "version": "3.9.12"
  }
 },
 "nbformat": 4,
 "nbformat_minor": 5
}
